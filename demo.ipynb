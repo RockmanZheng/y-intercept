{
 "cells": [
  {
   "cell_type": "code",
   "execution_count": null,
   "metadata": {},
   "outputs": [],
   "source": [
    "# prepare data\n",
    "# this step is optional as the repo already has a cook data file\n",
    "!python3 cook.py"
   ]
  },
  {
   "cell_type": "code",
   "execution_count": null,
   "metadata": {},
   "outputs": [],
   "source": [
    "# train the transformer prediction model\n",
    "# the model predicts the mean and standard deviation of each stock conditional on previous observations of return, market cap and volume changes\n",
    "# the model also incorporate sector and positional information by learning their embedding\n",
    "# the transformer model can learn to pay attention to different parts of the data to predict the return\n",
    "# this step is also optional as the repo has a trained model\n",
    "!python3 main.py"
   ]
  },
  {
   "cell_type": "code",
   "execution_count": 1,
   "metadata": {},
   "outputs": [
    {
     "name": "stdout",
     "output_type": "stream",
     "text": [
      "/opt/homebrew/lib/python3.11/site-packages/keras/src/layers/layer.py:359: UserWarning: `build()` was called on layer 'input_embedding', however the layer does not have a `build()` method implemented and it looks like it has unbuilt state. This will cause the layer to be marked as built, despite not being actually built, which may cause failures down the line. Make sure to implement a proper `build()` method.\n",
      "  warnings.warn(\n",
      "/opt/homebrew/lib/python3.11/site-packages/keras/src/layers/layer.py:359: UserWarning: `build()` was called on layer 'transformer_block', however the layer does not have a `build()` method implemented and it looks like it has unbuilt state. This will cause the layer to be marked as built, despite not being actually built, which may cause failures down the line. Make sure to implement a proper `build()` method.\n",
      "  warnings.warn(\n",
      "/opt/homebrew/lib/python3.11/site-packages/keras/src/layers/layer.py:359: UserWarning: `build()` was called on layer 'output_layer', however the layer does not have a `build()` method implemented and it looks like it has unbuilt state. This will cause the layer to be marked as built, despite not being actually built, which may cause failures down the line. Make sure to implement a proper `build()` method.\n",
      "  warnings.warn(\n",
      "\u001b[1m8/8\u001b[0m \u001b[32m━━━━━━━━━━━━━━━━━━━━\u001b[0m\u001b[37m\u001b[0m \u001b[1m4s\u001b[0m 517ms/step\n",
      "1360   2023-03-16\n",
      "1361   2023-03-17\n",
      "1362   2023-03-20\n",
      "1363   2023-03-22\n",
      "1364   2023-03-23\n",
      "          ...    \n",
      "1594   2024-02-29\n",
      "1595   2024-03-01\n",
      "1596   2024-03-04\n",
      "1597   2024-03-05\n",
      "1598   2024-03-06\n",
      "Name: date, Length: 239, dtype: datetime64[ns]\n",
      "Figure(640x480)\n"
     ]
    }
   ],
   "source": [
    "# Backtesting the transformer prediction model using the test data\n",
    "# the strategy is optimal in the sense that it attains minimum variance given a target expected return\n",
    "# the cumulative return is output in backtest.png\n",
    "!python3 backtest.py"
   ]
  }
 ],
 "metadata": {
  "kernelspec": {
   "display_name": "Python 3",
   "language": "python",
   "name": "python3"
  },
  "language_info": {
   "codemirror_mode": {
    "name": "ipython",
    "version": 3
   },
   "file_extension": ".py",
   "mimetype": "text/x-python",
   "name": "python",
   "nbconvert_exporter": "python",
   "pygments_lexer": "ipython3",
   "version": "3.11.6"
  }
 },
 "nbformat": 4,
 "nbformat_minor": 2
}
